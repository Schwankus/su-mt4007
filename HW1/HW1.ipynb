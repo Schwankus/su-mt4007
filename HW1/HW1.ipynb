{
 "cells": [
  {
   "cell_type": "markdown",
   "id": "626f18c9-980b-48ce-8079-2783a6c3906a",
   "metadata": {},
   "source": [
    "# Homework 1\n",
    "\n",
    "My name is Lowe Hjerth. I enjoy solving sudokus, programming, and long walks on the beach.\n",
    "\n",
    "My data science experience is contained to the other statistics courses here at SU."
   ]
  }
 ],
 "metadata": {
  "kernelspec": {
   "display_name": "Python 3 (ipykernel)",
   "language": "python",
   "name": "python3"
  },
  "language_info": {
   "codemirror_mode": {
    "name": "ipython",
    "version": 3
   },
   "file_extension": ".py",
   "mimetype": "text/x-python",
   "name": "python",
   "nbconvert_exporter": "python",
   "pygments_lexer": "ipython3",
   "version": "3.11.5"
  }
 },
 "nbformat": 4,
 "nbformat_minor": 5
}
